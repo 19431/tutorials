{
 "cells": [
  {
   "cell_type": "markdown",
   "metadata": {},
   "source": [
    "Slick algorithms and whiz-bang math are nice to have, but sometimes nothing speaks as well as a hardware demo. And for energy nerds, this means flashing lights. Rather than wrangling an Arduino and working with LEDs, another option is to get a quick start using 'smart' WiFi-controllable lightbulbs and a Python package to control them.\n",
    "\n",
    "Based on their low price and Python support with the [Pywemo package](https://github.com/pavoni/pywemo/tree/master/pywemo), I picked up a set of Belkin Wemo bulbs and have been using them for demos. As I couldn't find a great demo of how to control them, I'm sharing my learnings in this tutorial.\n",
    "\n",
    "**Why you might want to use Wemo smart bulbs:**\n",
    "- Low price\n",
    "- Good open-source software controls\n",
    "- Popular smart switch\n",
    "\n",
    "**Why not to use Wemo smart bulbs:**\n",
    "- Limited support: see notes below\n",
    "- Designed for home applications; limited wifi configurability\n",
    "\n",
    "**Bulbs which work with the Wemo Link bridge:** \n",
    "- Belkin Wemo bulbs (no longer sold separately; only available with starter kit)\n",
    "- Sylvania Lightify A19 'tunable white' bulbs\n",
    "- Sylvania Lightify A19 'Tunable Color' bulbs (not tested).\n",
    "- Cree Connected Soft White dimmable LED Bulb (not tested).\n",
    "- Note: The standard non-tunable white Lightify bulb **does not support the Wemo Link**\n",
    "\n",
    "The smart device space is changing fast, and there is not good interoperability between manufacturers due to differences in their underlying zigbee protocols. Even Sylvania/Osram and Belkin, who had been collaborating on the WeMo bulbs, no longer have full compatability between their bulbs.\n",
    "\n",
    "Some of the other manufacturers with smart bulbs and Python support are:\n",
    "- Philips Hue and [Phue python package](https://github.com/studioimaginaire/phue)\n",
    "- LIFX and [Lifxlan python package](https://github.com/mclarkk/lifxlan)\n",
    "\n",
    "If you know of others, let me know! I haven't explored the [open-source Home Assistant app](https://home-assistant.io) and python hooks, but this may be another useful route.\n",
    "\n",
    "If I had to do this again, I would go with Phillips (more likely to have forward support), or a Samsung SmartThings base (broader support for a variety of devices).\n",
    "\n",
    "### Understanding Ouimeaux and Pywemo\n",
    "Ouimeaux is an underlying API interface that provids hooks for communicating with all of the WeMo devices (and others). Pywemo is an extension package which runs on top of ouimeaux and provides functionality for Wemo devices (especially smart bulbs). The raw ouimeaux package does not allow for controlled dimming or tuning light color. **Bottom line:** If you want to dim a set of smart bulbs, go with the pywemo package\n",
    "\n",
    "Note: I've [submitted a pull request](https://github.com/pavoni/pywemo/pull/71) to fix a bug that affected color tuning in the Sylvania Lightify Tunable White bulb. Work with the github version until this is released to Pip.\n",
    "\n",
    "### Setup\n",
    "If you're using these for demos (and not on a home network) you'll need to get used to resetting the WeMo Link and lightbulbs. Note that the WeMo app doesn't support token-based device authentication or authentication portals, so won't work on many commercial networks (hotels, universities). As a workaround, I've sometimes created an ad-hoc network using a cell phone, and connected the WeMo Link and my laptop to this cell phone network.\n",
    "\n",
    "**Wemo Link light codes:**\n",
    "- Alternating orange and green: Ready to setup; connect to ad-hoc wifi and set up wifi via the WeMo mobile app (ad-hoc wifi SSID is like 'WeMo.Link.A01'\n",
    "- Flashing green: Startup mode after being unplugged; working on connecting to WiFi and bulbs\n",
    "- Flashing orange: Disconnected from WiFi or unable to find network\n",
    "- No lights: Working\n",
    "\n",
    "**Changing WiFi networks:**\n",
    "- Reset the WeMo Link (remove from outlet, press down reset button, plug in outlet, wait ~10s, release reset button, wait until alternating orange and green)\n",
    "- Use mobile device to connect to WeMo link's ad-hoc WiFi network\n",
    "- Launch WeMo app and set up WiFi preferences for Link\n",
    "- While Link is searching, reset the bulbs: Unplug for 1s, plug in for 3s... and repeat 3-5 times.\n",
    "- When bulbs have been reset, they will flash to indicate that they have reset\n",
    "- Bulbs should appear in WeMo Link app search screen. If not, reset again.\n",
    "\n"
   ]
  },
  {
   "cell_type": "code",
   "execution_count": 1,
   "metadata": {
    "collapsed": false,
    "deletable": true,
    "editable": true
   },
   "outputs": [
    {
     "name": "stdout",
     "output_type": "stream",
     "text": [
      "Current environment directory:/usr/local/Cellar/python/2.7.12/Frameworks/Python.framework/Versions/2.7\n",
      "System version: 2.7.12 (default, Aug 23 2016, 08:54:23) \n",
      "[GCC 4.2.1 Compatible Apple LLVM 7.3.0 (clang-703.0.31)]\n",
      "Current working directory: /Users/emunsing/GoogleDrive/Papers/EnergyBlockchain/Coding\n"
     ]
    }
   ],
   "source": [
    "import pywemo\n",
    "import os, sys, time\n",
    "import numpy as np\n",
    "import matplotlib.pyplot as plt\n",
    "% matplotlib inline\n",
    "\n",
    "print(\"Current environment directory:\" + sys.prefix)\n",
    "print(\"System version: \"+sys.version)\n",
    "print(\"Current working directory: \"+os.getcwd())"
   ]
  },
  {
   "cell_type": "markdown",
   "metadata": {},
   "source": [
    "After making sure that we're on the same network as the WeMo bridge and that the bridge is on (using the WeMo app), we need to discover the WeMo devices on the network."
   ]
  },
  {
   "cell_type": "code",
   "execution_count": 2,
   "metadata": {
    "collapsed": false,
    "deletable": true,
    "editable": true
   },
   "outputs": [
    {
     "name": "stderr",
     "output_type": "stream",
     "text": [
      "/usr/local/lib/python2.7/site-packages/pywemo/ssdp.py:142: FutureWarning: The behavior of this method will change in future versions.  Use specific 'len(elem)' or 'elem is not None' test instead.\n",
      "  if tree:\n"
     ]
    },
    {
     "data": {
      "text/plain": [
       "[<WeMo Bridge \"WeMo Link\", Lights: 3, Groups: 0>]"
      ]
     },
     "execution_count": 2,
     "metadata": {},
     "output_type": "execute_result"
    }
   ],
   "source": [
    "devices = pywemo.discover_devices()\n",
    "devices"
   ]
  },
  {
   "cell_type": "markdown",
   "metadata": {},
   "source": [
    "Great- we have a WeMo Link, which has some child Lights: we get details on that by accessing the `.Lights` property, which returns a dictionary keyed with the serial numbers of the lights:"
   ]
  },
  {
   "cell_type": "code",
   "execution_count": 3,
   "metadata": {
    "collapsed": false
   },
   "outputs": [
    {
     "data": {
      "text/plain": [
       "{'8418260000053C9D': <LIGHT \"Color Light 01\">,\n",
       " '94103EF6BF42C290': <LIGHT \"Lightbulb 03\">,\n",
       " '94103EF6BF439599': <LIGHT \"Lightbulb 02\">}"
      ]
     },
     "execution_count": 3,
     "metadata": {},
     "output_type": "execute_result"
    }
   ],
   "source": [
    "devices[0].Lights"
   ]
  },
  {
   "cell_type": "markdown",
   "metadata": {},
   "source": [
    "Serial numbers are a bit difficult to remember, and what matters is the `LIGHT` objects... so let's zip these up into a dictionary with names of our own creation:"
   ]
  },
  {
   "cell_type": "code",
   "execution_count": 4,
   "metadata": {
    "collapsed": false
   },
   "outputs": [
    {
     "data": {
      "text/plain": [
       "{'bathroom': <LIGHT \"Color Light 01\">,\n",
       " 'bedroom': <LIGHT \"Lightbulb 03\">,\n",
       " 'kitchen': <LIGHT \"Lightbulb 02\">}"
      ]
     },
     "execution_count": 4,
     "metadata": {},
     "output_type": "execute_result"
    }
   ],
   "source": [
    "lights = dict(zip(['bedroom','kitchen','bathroom'],devices[0].Lights.values()))\n",
    "lights"
   ]
  },
  {
   "cell_type": "markdown",
   "metadata": {},
   "source": [
    "We can now turn these on and off:"
   ]
  },
  {
   "cell_type": "code",
   "execution_count": 5,
   "metadata": {
    "collapsed": false
   },
   "outputs": [
    {
     "data": {
      "text/plain": [
       "<LIGHT \"Lightbulb 03\">"
      ]
     },
     "execution_count": 5,
     "metadata": {},
     "output_type": "execute_result"
    }
   ],
   "source": [
    "lights['bedroom'].toggle()\n",
    "time.sleep(3)\n",
    "lights['bedroom'].toggle()"
   ]
  },
  {
   "cell_type": "markdown",
   "metadata": {},
   "source": [
    "Note that we need to sleep between commands, as the lights won't buffer commands but instead will execute the requests as soon as they are recieved.\n",
    "\n",
    "If we don't want to toggle them, we can force them to be either on or off:"
   ]
  },
  {
   "cell_type": "code",
   "execution_count": 6,
   "metadata": {
    "collapsed": false
   },
   "outputs": [
    {
     "data": {
      "text/plain": [
       "<LIGHT \"Lightbulb 03\">"
      ]
     },
     "execution_count": 6,
     "metadata": {},
     "output_type": "execute_result"
    }
   ],
   "source": [
    "lights['bedroom'].turn_on(transition=2)\n",
    "time.sleep(2.1)\n",
    "lights['bedroom'].turn_off()"
   ]
  },
  {
   "cell_type": "markdown",
   "metadata": {},
   "source": [
    "For color-tunable lightbulbs, the `.set_temperature()` (and `.set_color`) methods provide the ability to specify a temperature. I've only worked with the temperature tunable Sylvania Lightify bulb, which appears to be tunable in the range of 2700-6500 Kelvin."
   ]
  },
  {
   "cell_type": "code",
   "execution_count": 7,
   "metadata": {
    "collapsed": true
   },
   "outputs": [],
   "source": [
    "lights['bathroom'].turn_off()\n",
    "lights['bathroom'].set_temperature(kelvin=2700, delay=False)\n",
    "lights['bathroom'].turn_on()\n",
    "time.sleep(0.5)\n",
    "lights['bathroom'].set_temperature(kelvin=6500,transition=2,delay=False)\n",
    "time.sleep(2.2)\n",
    "lights['bathroom'].set_temperature(kelvin=2700,transition=2,delay=False)\n",
    "time.sleep(2.2)"
   ]
  },
  {
   "cell_type": "markdown",
   "metadata": {},
   "source": [
    "We can additionally control of brightness using the optional `level` argument of the `turn_on` method. Values for `level` should be in the range 0-255. Add this to a loop, and we can start to have some fun visualizations:"
   ]
  },
  {
   "cell_type": "code",
   "execution_count": 8,
   "metadata": {
    "collapsed": false
   },
   "outputs": [
    {
     "data": {
      "text/plain": [
       "[<matplotlib.lines.Line2D at 0x106e5b210>]"
      ]
     },
     "execution_count": 8,
     "metadata": {},
     "output_type": "execute_result"
    },
    {
     "data": {
      "image/png": "[encoded data removed]",
      "text/plain": [
       "<matplotlib.figure.Figure at 0x1069c5b90>"
      ]
     },
     "metadata": {},
     "output_type": "display_data"
    }
   ],
   "source": [
    "max_brightness = 255\n",
    "x = np.arange(0,2,0.01)\n",
    "brightness = np.cos(2*np.pi * x)*max_brightness/2. + max_brightness/2.\n",
    "plt.plot(brightness)"
   ]
  },
  {
   "cell_type": "code",
   "execution_count": 9,
   "metadata": {
    "collapsed": false
   },
   "outputs": [],
   "source": [
    "for y in brightness:\n",
    "    lights['bathroom'].turn_on(level=y,transition=0.1,force_update=True)\n",
    "    time.sleep(0.11)"
   ]
  },
  {
   "cell_type": "markdown",
   "metadata": {},
   "source": [
    "Note that the light shuts off when `level=0` and switches back on as soon as level is positive- this is not a continuous mapping as might be expected. Also, you may want to cap the brightness of the lightbulbs, or use a shade (an upside down paper coffee cup is a convenient lampshade)\n",
    "\n",
    "Put it together, and we can have a simple combined visualization with changing both temperature and brightness:"
   ]
  },
  {
   "cell_type": "code",
   "execution_count": 10,
   "metadata": {
    "collapsed": false
   },
   "outputs": [],
   "source": [
    "temp_range = 6500-2700\n",
    "temp_base = 2700\n",
    "temperature = np.cos(np.pi * x)*temp_range*0.5 + temp_range*0.5 + temp_base\n",
    "\n",
    "for i in range(len(x)):\n",
    "    lights['bathroom'].set_temperature(kelvin=temperature[i], delay=False)\n",
    "    lights['bathroom'].turn_on(level=brightness[i],transition=0.1,force_update=True)"
   ]
  },
  {
   "cell_type": "markdown",
   "metadata": {},
   "source": [
    "I haven't played with Groups, but the functionality is supported- check out `bridge.py` in the pywemo project!"
   ]
  }
 ],
 "metadata": {
  "kernelspec": {
   "display_name": "Python 2",
   "language": "python",
   "name": "python2"
  },
  "language_info": {
   "codemirror_mode": {
    "name": "ipython",
    "version": 2
   },
   "file_extension": ".py",
   "mimetype": "text/x-python",
   "name": "python",
   "nbconvert_exporter": "python",
   "pygments_lexer": "ipython2",
   "version": "2.7.12"
  }
 },
 "nbformat": 4,
 "nbformat_minor": 1
}
